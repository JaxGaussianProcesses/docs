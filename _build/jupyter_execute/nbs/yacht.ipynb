{
 "cells": [
  {
   "cell_type": "code",
   "execution_count": 1,
   "id": "747683cb",
   "metadata": {
    "lines_to_next_cell": 0
   },
   "outputs": [],
   "source": [
    "import jax.random as jr\n",
    "import matplotlib.pyplot as plt\n",
    "import numpy as np\n",
    "import optax as ox\n",
    "from jax.config import config\n",
    "from jaxutils import Dataset\n",
    "import jaxkern as jk\n",
    "\n",
    "# Enable Float64 for more stable matrix inversions.\n",
    "config.update(\"jax_enable_x64\", True)"
   ]
  },
  {
   "cell_type": "markdown",
   "id": "96fa8d6d",
   "metadata": {
    "lines_to_next_cell": 0
   },
   "source": [
    "# UCI Data Benchmarking\n",
    "\n",
    "In this notebook, we will show how to apply GPJax on a benchmark UCI regression problem. These kind of tasks are often used in the research community to benchmark and assess new techniques against those already in the literature. Much of the code contained in this notebook can be adapted to applied problems concerning datasets other than the one presented here."
   ]
  },
  {
   "cell_type": "code",
   "execution_count": 2,
   "id": "51670eb2",
   "metadata": {},
   "outputs": [],
   "source": [
    "import pandas as pd\n",
    "from jax import jit\n",
    "from sklearn.metrics import mean_squared_error, r2_score\n",
    "from sklearn.model_selection import train_test_split\n",
    "from sklearn.preprocessing import StandardScaler\n",
    "\n",
    "import gpjax as gpx\n",
    "\n",
    "key = jr.PRNGKey(123)"
   ]
  },
  {
   "cell_type": "markdown",
   "id": "2dee0226",
   "metadata": {},
   "source": [
    "## Data Loading\n",
    "\n",
    "We'll be using the [Yacht](https://archive.ics.uci.edu/ml/datasets/yacht+hydrodynamics) dataset from the UCI machine learning data repository. Each observation describes the hydrodynamic performance of a yacht through its resistance. The dataset contains 6 covariates and a single positive, real valued response variable. There are 308 observations in the dataset, so we can comfortably use a conjugate regression Gaussian process here (for more more details, checkout the [Regression notebook](https://gpjax.readthedocs.io/en/latest/nbs/regression.html))."
   ]
  },
  {
   "cell_type": "code",
   "execution_count": 3,
   "id": "4c5325c1",
   "metadata": {},
   "outputs": [],
   "source": [
    "yacht = pd.read_fwf(\"data/yacht_hydrodynamics.data\", header=None).values[:-1, :]\n",
    "X = yacht[:, :-1]\n",
    "y = yacht[:, -1].reshape(-1, 1)"
   ]
  },
  {
   "cell_type": "markdown",
   "id": "2246c9d2",
   "metadata": {},
   "source": [
    "## Preprocessing\n",
    "\n",
    "With a dataset loaded, we'll now preprocess it such that it is more amenable to modelling with a Gaussian process.\n",
    "\n",
    "### Data Partitioning\n",
    "\n",
    "We'll first partition our data into a _training_ and _testing_ split. We'll fit our Gaussian process to the training data and evaluate its performance on the test data. This allows us to investigate how effectively our Gaussian process generalises to out-of-sample datapoints and ensure that we are not overfitting. We'll hold 30% of our data back for testing purposes."
   ]
  },
  {
   "cell_type": "code",
   "execution_count": 4,
   "id": "c5e1dec9",
   "metadata": {},
   "outputs": [],
   "source": [
    "Xtr, Xte, ytr, yte = train_test_split(X, y, test_size=0.3, random_state=42)"
   ]
  },
  {
   "cell_type": "markdown",
   "id": "2ae527b7",
   "metadata": {},
   "source": [
    "### Response Variable\n",
    "\n",
    "We'll now process our response variable $\\mathbf{y}$. As the below plots show, the data has a very long tail and is certainly not Gaussian. However, we would like to model a Gaussian response variable so that we can adopt a Gaussian likelihood function and leverage the model's conjugacy. To achieve this, we'll first log-scale the data, to bring the long right tail in closer to the data's mean. We'll then standardise the data such that is distributed according to a unit normal distribution. Both of these transformations are invertible through the log-normal expectation and variance formulae and the the inverse standardisation identity, should we ever need our model's predictions to be back on the scale of the original dataset.\n",
    "\n",
    "For transforming both the input and response variable, all transformations will be done with respect to the training data where relevant."
   ]
  },
  {
   "cell_type": "code",
   "execution_count": 5,
   "id": "93fba71a",
   "metadata": {},
   "outputs": [],
   "source": [
    "log_ytr = np.log(ytr)\n",
    "log_yte = np.log(yte)\n",
    "\n",
    "y_scaler = StandardScaler().fit(log_ytr)\n",
    "scaled_ytr = y_scaler.transform(log_ytr)\n",
    "scaled_yte = y_scaler.transform(log_yte)"
   ]
  },
  {
   "cell_type": "markdown",
   "id": "0b39db9d",
   "metadata": {},
   "source": [
    "We can see the effect of these transformations in the below three panels."
   ]
  },
  {
   "cell_type": "code",
   "execution_count": 6,
   "id": "05c10cac",
   "metadata": {},
   "outputs": [
    {
     "data": {
      "text/plain": [
       "Text(0.5, 1.0, 'scaled log(y)')"
      ]
     },
     "execution_count": 6,
     "metadata": {},
     "output_type": "execute_result"
    },
    {
     "data": {
      "image/png": "[encoded data removed]",
      "text/plain": [
       "<Figure size 1600x400 with 3 Axes>"
      ]
     },
     "metadata": {
      "filenames": {
       "image/png": "/Users/tompinder/Documents/python_dev/JaxGPDevs/docs/_build/jupyter_execute/nbs/yacht_10_1.png"
      }
     },
     "output_type": "display_data"
    }
   ],
   "source": [
    "fig, ax = plt.subplots(ncols=3, figsize=(16, 4), tight_layout=True)\n",
    "ax[0].hist(ytr, bins=30)\n",
    "ax[0].set_title(\"y\")\n",
    "ax[1].hist(log_ytr, bins=30)\n",
    "ax[1].set_title(\"log(y)\")\n",
    "ax[2].hist(scaled_ytr, bins=30)\n",
    "ax[2].set_title(\"scaled log(y)\")"
   ]
  },
  {
   "cell_type": "markdown",
   "id": "79b80c6c",
   "metadata": {},
   "source": [
    "### Input Variable\n",
    "\n",
    "We'll now transform our input variable $\\mathbf{X}$ to be distributed according to a unit Gaussian."
   ]
  },
  {
   "cell_type": "code",
   "execution_count": 7,
   "id": "d44d289c",
   "metadata": {},
   "outputs": [],
   "source": [
    "x_scaler = StandardScaler().fit(Xtr)\n",
    "scaled_Xtr = x_scaler.transform(Xtr)\n",
    "scaled_Xte = x_scaler.transform(Xte)"
   ]
  },
  {
   "cell_type": "markdown",
   "id": "998390e4",
   "metadata": {},
   "source": [
    "## Model fitting\n",
    "\n",
    "With data now loaded and preprocessed, we'll proceed to defining a Gaussian process model and optimising its parameters. This notebook purposefully does not go into great detail on this process, so please see notebooks such as the [Regression notebook](https://gpjax.readthedocs.io/en/latest/nbs/regression.html) and [Classification notebook](https://gpjax.readthedocs.io/en/latest/nbs/classification.html) for further information.\n",
    "\n",
    "### Model specification\n",
    "\n",
    "We'll use a radial basis function kernel to parameterise the Gaussian process in this notebook. As we have 5 covariates, we'll assign each covariate its own lengthscale parameter. This form of kernel is commonly known as an automatic relevance determination (ARD) kernel.\n",
    "\n",
    "In practice, the exact form of kernel used should be selected such that it represents your understanding of the data. For example, if you were to model temperature; a process that we know to be periodic, then you would likely wish to select a periodic kernel. Having _Gaussian-ised_ our data somewhat, we'll also adopt a Gaussian likelihood function."
   ]
  },
  {
   "cell_type": "code",
   "execution_count": 8,
   "id": "f3cd47b8",
   "metadata": {},
   "outputs": [],
   "source": [
    "n_train, n_covariates = scaled_Xtr.shape\n",
    "kernel = jk.kernels.RBF(active_dims=list(range(n_covariates)))\n",
    "prior = gpx.Prior(kernel=kernel)\n",
    "\n",
    "likelihood = gpx.Gaussian(num_datapoints=n_train)\n",
    "\n",
    "posterior = prior * likelihood"
   ]
  },
  {
   "cell_type": "markdown",
   "id": "92f52f4a",
   "metadata": {},
   "source": [
    "### Model Optimisation\n",
    "\n",
    "With a model now defined, we can proceed to optimise the hyperparameters of our model using Optax."
   ]
  },
  {
   "cell_type": "code",
   "execution_count": 9,
   "id": "d5850441",
   "metadata": {},
   "outputs": [
    {
     "data": {
      "application/vnd.jupyter.widget-view+json": {
       "model_id": "c5973b81166a44158dc21cbffcd8efa0",
       "version_major": 2,
       "version_minor": 0
      },
      "text/plain": [
       "  0%|          | 0/1000 [00:00<?, ?it/s]"
      ]
     },
     "metadata": {},
     "output_type": "display_data"
    }
   ],
   "source": [
    "training_data = Dataset(X=scaled_Xtr, y=scaled_ytr)\n",
    "\n",
    "parameter_state = gpx.initialise(posterior, key)\n",
    "negative_mll = jit(\n",
    "    posterior.marginal_log_likelihood(train_data=training_data, negative=True)\n",
    ")\n",
    "optimiser = ox.adam(0.05)\n",
    "\n",
    "inference_state = gpx.fit(\n",
    "    objective=negative_mll,\n",
    "    parameter_state=parameter_state,\n",
    "    optax_optim=optimiser,\n",
    "    num_iters=1000,\n",
    "    log_rate=50,\n",
    ")\n",
    "\n",
    "learned_params, training_history = inference_state.unpack()"
   ]
  },
  {
   "cell_type": "markdown",
   "id": "d2a1a33c",
   "metadata": {},
   "source": [
    "## Prediction\n",
    "\n",
    "With an optimal set of parameters learned, we can make predictions on the set of data that we held back right at the start. We'll do this in the usual way by first computing the latent function's distribution before computing the predictive posterior distribution."
   ]
  },
  {
   "cell_type": "code",
   "execution_count": 10,
   "id": "87354aa9",
   "metadata": {},
   "outputs": [],
   "source": [
    "latent_dist = posterior(\n",
    "    learned_params,\n",
    "    training_data,\n",
    ")(scaled_Xte)\n",
    "predictive_dist = likelihood(learned_params, latent_dist)\n",
    "\n",
    "predictive_mean = predictive_dist.mean()\n",
    "predictive_stddev = predictive_dist.stddev()"
   ]
  },
  {
   "cell_type": "markdown",
   "id": "ec53c102",
   "metadata": {},
   "source": [
    "## Evaluation\n",
    "\n",
    "We'll now show how the performance of our Gaussian process can be evaluated by numerically and visually.\n",
    "\n",
    "### Metrics\n",
    "\n",
    "To numerically assess the performance of our model, two commonly used metrics are root mean squared error (RMSE) and the R2 coefficient. RMSE is simply the square root of the squared difference between predictions and actuals. A value of 0 for this metric implies that our model has 0 generalisation error on the test set. R2 measures the amount of variation within the data that is explained by the model. This can be useful when designing variance reduction methods such as control variates as it allows you to understand what proportion of the data's variance will be soaked up. A perfect model here would score 1 for R2 score, whereas predicting the data's mean would score 0 and models doing worse than simple mean predictions can score less than 0."
   ]
  },
  {
   "cell_type": "code",
   "execution_count": 11,
   "id": "b5e56f27",
   "metadata": {},
   "outputs": [
    {
     "name": "stdout",
     "output_type": "stream",
     "text": [
      "Results:\n",
      "\tRMSE:  0.0106\n",
      "\tR2:  0.99\n"
     ]
    }
   ],
   "source": [
    "rmse = mean_squared_error(y_true=scaled_yte.squeeze(), y_pred=predictive_mean)\n",
    "r2 = r2_score(y_true=scaled_yte.squeeze(), y_pred=predictive_mean)\n",
    "print(f\"Results:\\n\\tRMSE: {rmse: .4f}\\n\\tR2: {r2: .2f}\")"
   ]
  },
  {
   "cell_type": "markdown",
   "id": "28f3d1e2",
   "metadata": {},
   "source": [
    "Both of these metrics seem very promising, so, based off these, we can be quite happy that our first attempt at modelling the Yacht data is promising.\n",
    "\n",
    "### Diagnostic plots\n",
    "\n",
    "To accompany the above metrics, we can also produce residual plots to explore exactly where our model's shortcomings lie. If we define a residual as the true value minus the prediction, then we can produce three plots:\n",
    "\n",
    "1. Predictions vs. actuals.\n",
    "2. Predictions vs. residuals.\n",
    "3. Residual density.\n",
    "\n",
    "The first plot allows us to explore if our model struggles to predict well for larger or smaller values by observing where the model deviates more from the line $y=x$. In the second plot we can inspect whether or not there were outliers or structure within the errors of our model. A well-performing model would have predictions close to and symmetrically distributed either side of $y=0$. Such a plot can be useful for diagnosing heteroscedasticity. Finally, by plotting a histogram of our residuals we can observe whether or not there is any skew to our residuals."
   ]
  },
  {
   "cell_type": "code",
   "execution_count": 12,
   "id": "0419d475",
   "metadata": {},
   "outputs": [
    {
     "data": {
      "text/plain": [
       "Text(0.5, 1.0, 'Residuals')"
      ]
     },
     "execution_count": 12,
     "metadata": {},
     "output_type": "execute_result"
    },
    {
     "data": {
      "image/png": "[encoded data removed]",
      "text/plain": [
       "<Figure size 1600x400 with 3 Axes>"
      ]
     },
     "metadata": {
      "filenames": {
       "image/png": "/Users/tompinder/Documents/python_dev/JaxGPDevs/docs/_build/jupyter_execute/nbs/yacht_22_1.png"
      }
     },
     "output_type": "display_data"
    }
   ],
   "source": [
    "residuals = scaled_yte.squeeze() - predictive_mean\n",
    "\n",
    "fig, ax = plt.subplots(ncols=3, figsize=(16, 4), tight_layout=True)\n",
    "\n",
    "ax[0].scatter(predictive_mean, scaled_yte.squeeze())\n",
    "ax[0].plot([0, 1], [0, 1], color=\"tab:orange\", transform=ax[0].transAxes)\n",
    "ax[0].set(xlabel=\"Predicted\", ylabel=\"Actual\", title=\"Predicted vs Actual\")\n",
    "\n",
    "ax[1].scatter(predictive_mean.squeeze(), residuals)\n",
    "ax[1].plot([0, 1], [0.5, 0.5], color=\"tab:orange\", transform=ax[1].transAxes)\n",
    "ax[1].set_ylim([-1.0, 1.0])\n",
    "ax[1].set(xlabel=\"Predicted\", ylabel=\"Residuals\", title=\"Predicted vs Residuals\")\n",
    "\n",
    "ax[2].hist(np.asarray(residuals), bins=30)\n",
    "ax[2].set_title(\"Residuals\")"
   ]
  },
  {
   "cell_type": "markdown",
   "id": "924953ca",
   "metadata": {},
   "source": [
    "From this, we can see that our model is struggling to predict the smallest values of the Yacht's hydrodynamic and performs increasingly well as the Yacht's hydrodynamic performance increases. This is likely due to the original data's heavy right-skew, and successive modelling attempts may wish to introduce a heteroscedastic likelihood function that would enable more flexible modelling of the smaller response values.\n",
    "\n",
    "## System configuration"
   ]
  },
  {
   "cell_type": "code",
   "execution_count": 13,
   "id": "23c42ace",
   "metadata": {},
   "outputs": [
    {
     "name": "stdout",
     "output_type": "stream",
     "text": [
      "Author: Thomas Pinder\n",
      "\n",
      "Last updated: Sat Jan 14 2023\n",
      "\n",
      "Python implementation: CPython\n",
      "Python version       : 3.9.15\n",
      "IPython version      : 8.8.0\n",
      "\n",
      "gpjax     : 0.5.8\n",
      "matplotlib: 3.3.3\n",
      "jaxkern   : 0.0.4\n",
      "numpy     : 1.24.1\n",
      "jax       : 0.4.1\n",
      "pandas    : 1.5.2\n",
      "optax     : 0.1.4\n",
      "\n",
      "Watermark: 2.3.1\n",
      "\n"
     ]
    }
   ],
   "source": [
    "%reload_ext watermark\n",
    "%watermark -n -u -v -iv -w -a 'Thomas Pinder'"
   ]
  }
 ],
 "metadata": {
  "jupytext": {
   "custom_cell_magics": "kql",
   "text_representation": {
    "extension": ".py",
    "format_name": "percent",
    "format_version": "1.3",
    "jupytext_version": "1.11.2"
   }
  },
  "kernelspec": {
   "display_name": "base",
   "language": "python",
   "name": "python3"
  },
  "language_info": {
   "codemirror_mode": {
    "name": "ipython",
    "version": 3
   },
   "file_extension": ".py",
   "mimetype": "text/x-python",
   "name": "python",
   "nbconvert_exporter": "python",
   "pygments_lexer": "ipython3",
   "version": "3.9.15"
  },
  "widgets": {
   "application/vnd.jupyter.widget-state+json": {
    "state": {
     "4522329fe063489394227ece1ffdd092": {
      "model_module": "@jupyter-widgets/base",
      "model_module_version": "1.2.0",
      "model_name": "LayoutModel",
      "state": {
       "_model_module": "@jupyter-widgets/base",
       "_model_module_version": "1.2.0",
       "_model_name": "LayoutModel",
       "_view_count": null,
       "_view_module": "@jupyter-widgets/base",
       "_view_module_version": "1.2.0",
       "_view_name": "LayoutView",
       "align_content": null,
       "align_items": null,
       "align_self": null,
       "border": null,
       "bottom": null,
       "display": null,
       "flex": null,
       "flex_flow": null,
       "grid_area": null,
       "grid_auto_columns": null,
       "grid_auto_flow": null,
       "grid_auto_rows": null,
       "grid_column": null,
       "grid_gap": null,
       "grid_row": null,
       "grid_template_areas": null,
       "grid_template_columns": null,
       "grid_template_rows": null,
       "height": null,
       "justify_content": null,
       "justify_items": null,
       "left": null,
       "margin": null,
       "max_height": null,
       "max_width": null,
       "min_height": null,
       "min_width": null,
       "object_fit": null,
       "object_position": null,
       "order": null,
       "overflow": null,
       "overflow_x": null,
       "overflow_y": null,
       "padding": null,
       "right": null,
       "top": null,
       "visibility": null,
       "width": null
      }
     },
     "454a8a1995124c3d8e3d35bbec925836": {
      "model_module": "@jupyter-widgets/controls",
      "model_module_version": "1.5.0",
      "model_name": "HTMLModel",
      "state": {
       "_dom_classes": [],
       "_model_module": "@jupyter-widgets/controls",
       "_model_module_version": "1.5.0",
       "_model_name": "HTMLModel",
       "_view_count": null,
       "_view_module": "@jupyter-widgets/controls",
       "_view_module_version": "1.5.0",
       "_view_name": "HTMLView",
       "description": "",
       "description_tooltip": null,
       "layout": "IPY_MODEL_5189def8420240f18ad586442addae32",
       "placeholder": "​",
       "style": "IPY_MODEL_c43760ae3e65461fb9c1b58c0c16a2aa",
       "value": " 1000/1000 [00:07&lt;00:00, 151.65it/s, Objective=-174.94]"
      }
     },
     "5189def8420240f18ad586442addae32": {
      "model_module": "@jupyter-widgets/base",
      "model_module_version": "1.2.0",
      "model_name": "LayoutModel",
      "state": {
       "_model_module": "@jupyter-widgets/base",
       "_model_module_version": "1.2.0",
       "_model_name": "LayoutModel",
       "_view_count": null,
       "_view_module": "@jupyter-widgets/base",
       "_view_module_version": "1.2.0",
       "_view_name": "LayoutView",
       "align_content": null,
       "align_items": null,
       "align_self": null,
       "border": null,
       "bottom": null,
       "display": null,
       "flex": null,
       "flex_flow": null,
       "grid_area": null,
       "grid_auto_columns": null,
       "grid_auto_flow": null,
       "grid_auto_rows": null,
       "grid_column": null,
       "grid_gap": null,
       "grid_row": null,
       "grid_template_areas": null,
       "grid_template_columns": null,
       "grid_template_rows": null,
       "height": null,
       "justify_content": null,
       "justify_items": null,
       "left": null,
       "margin": null,
       "max_height": null,
       "max_width": null,
       "min_height": null,
       "min_width": null,
       "object_fit": null,
       "object_position": null,
       "order": null,
       "overflow": null,
       "overflow_x": null,
       "overflow_y": null,
       "padding": null,
       "right": null,
       "top": null,
       "visibility": null,
       "width": null
      }
     },
     "5adba5a5a7a44cbdbe692aae4eae7637": {
      "model_module": "@jupyter-widgets/controls",
      "model_module_version": "1.5.0",
      "model_name": "DescriptionStyleModel",
      "state": {
       "_model_module": "@jupyter-widgets/controls",
       "_model_module_version": "1.5.0",
       "_model_name": "DescriptionStyleModel",
       "_view_count": null,
       "_view_module": "@jupyter-widgets/base",
       "_view_module_version": "1.2.0",
       "_view_name": "StyleView",
       "description_width": ""
      }
     },
     "62254e8e467f449492f91d7d3e3f19d2": {
      "model_module": "@jupyter-widgets/controls",
      "model_module_version": "1.5.0",
      "model_name": "ProgressStyleModel",
      "state": {
       "_model_module": "@jupyter-widgets/controls",
       "_model_module_version": "1.5.0",
       "_model_name": "ProgressStyleModel",
       "_view_count": null,
       "_view_module": "@jupyter-widgets/base",
       "_view_module_version": "1.2.0",
       "_view_name": "StyleView",
       "bar_color": null,
       "description_width": ""
      }
     },
     "62d2c9c766164e55bf27d1800120f152": {
      "model_module": "@jupyter-widgets/base",
      "model_module_version": "1.2.0",
      "model_name": "LayoutModel",
      "state": {
       "_model_module": "@jupyter-widgets/base",
       "_model_module_version": "1.2.0",
       "_model_name": "LayoutModel",
       "_view_count": null,
       "_view_module": "@jupyter-widgets/base",
       "_view_module_version": "1.2.0",
       "_view_name": "LayoutView",
       "align_content": null,
       "align_items": null,
       "align_self": null,
       "border": null,
       "bottom": null,
       "display": null,
       "flex": null,
       "flex_flow": null,
       "grid_area": null,
       "grid_auto_columns": null,
       "grid_auto_flow": null,
       "grid_auto_rows": null,
       "grid_column": null,
       "grid_gap": null,
       "grid_row": null,
       "grid_template_areas": null,
       "grid_template_columns": null,
       "grid_template_rows": null,
       "height": null,
       "justify_content": null,
       "justify_items": null,
       "left": null,
       "margin": null,
       "max_height": null,
       "max_width": null,
       "min_height": null,
       "min_width": null,
       "object_fit": null,
       "object_position": null,
       "order": null,
       "overflow": null,
       "overflow_x": null,
       "overflow_y": null,
       "padding": null,
       "right": null,
       "top": null,
       "visibility": null,
       "width": null
      }
     },
     "764bff98e1144cbbb5c0dfe34d49f0b6": {
      "model_module": "@jupyter-widgets/controls",
      "model_module_version": "1.5.0",
      "model_name": "HTMLModel",
      "state": {
       "_dom_classes": [],
       "_model_module": "@jupyter-widgets/controls",
       "_model_module_version": "1.5.0",
       "_model_name": "HTMLModel",
       "_view_count": null,
       "_view_module": "@jupyter-widgets/controls",
       "_view_module_version": "1.5.0",
       "_view_name": "HTMLView",
       "description": "",
       "description_tooltip": null,
       "layout": "IPY_MODEL_4522329fe063489394227ece1ffdd092",
       "placeholder": "​",
       "style": "IPY_MODEL_5adba5a5a7a44cbdbe692aae4eae7637",
       "value": "100%"
      }
     },
     "afbcfaf6c3ed4976b52871c8450395f6": {
      "model_module": "@jupyter-widgets/base",
      "model_module_version": "1.2.0",
      "model_name": "LayoutModel",
      "state": {
       "_model_module": "@jupyter-widgets/base",
       "_model_module_version": "1.2.0",
       "_model_name": "LayoutModel",
       "_view_count": null,
       "_view_module": "@jupyter-widgets/base",
       "_view_module_version": "1.2.0",
       "_view_name": "LayoutView",
       "align_content": null,
       "align_items": null,
       "align_self": null,
       "border": null,
       "bottom": null,
       "display": null,
       "flex": null,
       "flex_flow": null,
       "grid_area": null,
       "grid_auto_columns": null,
       "grid_auto_flow": null,
       "grid_auto_rows": null,
       "grid_column": null,
       "grid_gap": null,
       "grid_row": null,
       "grid_template_areas": null,
       "grid_template_columns": null,
       "grid_template_rows": null,
       "height": null,
       "justify_content": null,
       "justify_items": null,
       "left": null,
       "margin": null,
       "max_height": null,
       "max_width": null,
       "min_height": null,
       "min_width": null,
       "object_fit": null,
       "object_position": null,
       "order": null,
       "overflow": null,
       "overflow_x": null,
       "overflow_y": null,
       "padding": null,
       "right": null,
       "top": null,
       "visibility": null,
       "width": null
      }
     },
     "c43760ae3e65461fb9c1b58c0c16a2aa": {
      "model_module": "@jupyter-widgets/controls",
      "model_module_version": "1.5.0",
      "model_name": "DescriptionStyleModel",
      "state": {
       "_model_module": "@jupyter-widgets/controls",
       "_model_module_version": "1.5.0",
       "_model_name": "DescriptionStyleModel",
       "_view_count": null,
       "_view_module": "@jupyter-widgets/base",
       "_view_module_version": "1.2.0",
       "_view_name": "StyleView",
       "description_width": ""
      }
     },
     "c5973b81166a44158dc21cbffcd8efa0": {
      "model_module": "@jupyter-widgets/controls",
      "model_module_version": "1.5.0",
      "model_name": "HBoxModel",
      "state": {
       "_dom_classes": [],
       "_model_module": "@jupyter-widgets/controls",
       "_model_module_version": "1.5.0",
       "_model_name": "HBoxModel",
       "_view_count": null,
       "_view_module": "@jupyter-widgets/controls",
       "_view_module_version": "1.5.0",
       "_view_name": "HBoxView",
       "box_style": "",
       "children": [
        "IPY_MODEL_764bff98e1144cbbb5c0dfe34d49f0b6",
        "IPY_MODEL_f988a11b990c4b238e76383a60cae3e8",
        "IPY_MODEL_454a8a1995124c3d8e3d35bbec925836"
       ],
       "layout": "IPY_MODEL_afbcfaf6c3ed4976b52871c8450395f6"
      }
     },
     "f988a11b990c4b238e76383a60cae3e8": {
      "model_module": "@jupyter-widgets/controls",
      "model_module_version": "1.5.0",
      "model_name": "FloatProgressModel",
      "state": {
       "_dom_classes": [],
       "_model_module": "@jupyter-widgets/controls",
       "_model_module_version": "1.5.0",
       "_model_name": "FloatProgressModel",
       "_view_count": null,
       "_view_module": "@jupyter-widgets/controls",
       "_view_module_version": "1.5.0",
       "_view_name": "ProgressView",
       "bar_style": "success",
       "description": "",
       "description_tooltip": null,
       "layout": "IPY_MODEL_62d2c9c766164e55bf27d1800120f152",
       "max": 1000.0,
       "min": 0.0,
       "orientation": "horizontal",
       "style": "IPY_MODEL_62254e8e467f449492f91d7d3e3f19d2",
       "value": 1000.0
      }
     }
    },
    "version_major": 2,
    "version_minor": 0
   }
  }
 },
 "nbformat": 4,
 "nbformat_minor": 5
}